{
 "cells": [
  {
   "cell_type": "markdown",
   "id": "11ef3a74",
   "metadata": {},
   "source": [
    "# 第一週：AI 語言模型概覽與 ChatGPT 互動基礎 - 練習\n",
    "\n",
    "歡迎來到第一週的課程練習！這個筆記本將引導你完成本週的 Python 核心概念複習、小測驗練習，以及與 AI 互動的初步練習。"
   ]
  },
  {
   "cell_type": "markdown",
   "id": "c0e7d110",
   "metadata": {},
   "source": [
    "## 本週學習目標\n",
    "\n",
    "複習一下我們這週要學習的內容：\n",
    "* 快速複習 Python 的重要觀念。\n",
    "* 認識主流 AI 大型語言模型：ChatGPT (OpenAI)、Gemini (Google)、Claude (Anthropic) 的基本特色與應用。\n",
    "* 學習如何像與 ChatGPT 互動一樣，有效地向 AI 提問以輔助 Python 學習。\n",
    "* 掌握 Prompt 工程初步：如何撰寫清晰、具體的指令讓 AI 更懂你的需求。\n",
    "* 初步建立程式碼風格與可讀性的觀念。"
   ]
  },
  {
   "cell_type": "markdown",
   "id": "9b03b726",
   "metadata": {},
   "source": [
    "## (一) Python 核心回顧\n",
    "\n",
    "### 1. Python 暖身操\n",
    "我們已經學過 Python 的基本功了，對吧？讓我們快速回憶一下："
   ]
  },
  {
   "cell_type": "code",
   "execution_count": null,
   "id": "4c78033c",
   "metadata": {},
   "outputs": [],
   "source": [
    "# 變數 (Variables)：儲存資料的小盒子\n",
    "my_name = \"小明\"  # 字串變數\n",
    "age = 13          # 整數變數\n",
    "height = 155.5    # 浮點數變數\n",
    "is_student = True # 布林值變數\n",
    "\n",
    "# 使用 print() 函式和 f-string 來印出變數內容\n",
    "print(f\"我的名字是 {my_name}，今年 {age} 歲，身高 {height} 公分。\")\n",
    "print(f\"我是學生嗎？ {is_student}\")"
   ]
  },
  {
   "cell_type": "markdown",
   "id": "ac4cd1ad",
   "metadata": {},
   "source": [
    "#### 資料型態 (Data Types)\n",
    "不同種類的資料有不同的型態，例如：\n",
    "* `str` (字串)\n",
    "* `int` (整數)\n",
    "* `float` (浮點數)\n",
    "* `bool` (布林值)"
   ]
  },
  {
   "cell_type": "code",
   "execution_count": null,
   "id": "ec642c5e",
   "metadata": {},
   "outputs": [],
   "source": [
    "# 練習：使用 type() 函式檢查上面變數的資料型態\n",
    "print(f\"my_name 的型態是: {type(my_name)}\")\n",
    "print(f\"age 的型態是: {type(age)}\")\n",
    "print(f\"height 的型態是: {type(height)}\")\n",
    "print(f\"is_student 的型態是: {type(is_student)}\")"
   ]
  },
  {
   "cell_type": "markdown",
   "id": "fbea1364",
   "metadata": {},
   "source": [
    "#### 運算子 (Operators)\n",
    "用來做運算的符號，例如：\n",
    "* 算術運算子：`+`, `-`, `*`, `/`, `//` (整數除法), `%` (取餘數), `**` (次方)\n",
    "* 比較運算子：`>`, `<`, `==` (等於), `!=` (不等於), `>=`, `<=`"
   ]
  },
  {
   "cell_type": "code",
   "execution_count": null,
   "id": "d36a96db",
   "metadata": {},
   "outputs": [],
   "source": [
    "# 練習：試試看不同的運算子\n",
    "a = 10\n",
    "b = 3\n",
    "\n",
    "print(f\"{a} + {b} = {a + b}\")\n",
    "print(f\"{a} * {b} = {a * b}\")\n",
    "print(f\"{a} / {b} = {a / b}\") \n",
    "print(f\"{a} // {b} = {a // b}\")\n",
    "print(f\"{a} % {b} = {a % b}\")\n",
    "print(f\"{a} 的 {b} 次方是 {a ** b}\")\n",
    "\n",
    "print(f\"{a} 是否大於 {b}？ {a > b}\")\n",
    "print(f\"{a} 是否等於 {b} * 3 + 1？ {a == (b * 3 + 1)}\")"
   ]
  },
  {
   "cell_type": "markdown",
   "id": "797df64c",
   "metadata": {},
   "source": [
    "#### 控制流程 (Control Flow)\n",
    "讓程式決定下一步怎麼走。\n",
    "* `if...elif...else`：條件判斷\n",
    "* `for` 迴圈：重複執行特定次數或遍歷序列\n",
    "* `while` 迴圈：當條件為真時重複執行"
   ]
  },
  {
   "cell_type": "code",
   "execution_count": null,
   "id": "95423e60",
   "metadata": {},
   "outputs": [],
   "source": [
    "# 練習：if...elif...else\n",
    "# 根據不同的分數給予不同的評語\n",
    "score = 75 # 試著改變這個分數看看結果\n",
    "\n",
    "if score >= 90:\n",
    "    grade = \"優等\"\n",
    "elif score >= 80:\n",
    "    grade = \"甲等\"\n",
    "elif score >= 70:\n",
    "    grade = \"乙等\"\n",
    "elif score >= 60:\n",
    "    grade = \"丙等\"\n",
    "else:\n",
    "    grade = \"不及格，再加油！\"\n",
    "print(f\"分數 {score} 的評語是：{grade}\")"
   ]
  },
  {
   "cell_type": "code",
   "execution_count": null,
   "id": "6fb77f49",
   "metadata": {},
   "outputs": [],
   "source": [
    "# 練習：for 迴圈\n",
    "# 印出一個清單中的所有項目\n",
    "my_list = [\"Python\", \"好好玩\", \"一起學程式\"]\n",
    "for item in my_list:\n",
    "    print(item)\n",
    "\n",
    "# 印出數字 1 到 5\n",
    "for i in range(1, 6): # range(start, stop) 不包含 stop\n",
    "    print(i)"
   ]
  },
  {
   "cell_type": "code",
   "execution_count": null,
   "id": "af8ce484",
   "metadata": {},
   "outputs": [],
   "source": [
    "# 練習：while 迴圈\n",
    "# 從 1 開始數，數到 3 就停止\n",
    "number = 1\n",
    "while number <= 3:\n",
    "    print(number)\n",
    "    number += 1"
   ]
  },
  {
   "cell_type": "markdown",
   "id": "75728e22",
   "metadata": {},
   "source": [
    "## (二) AI 語言模型大觀園\n",
    "\n",
    "這部分我們將認識幾位主流的 AI 語言模型：ChatGPT、Gemini、Claude，以及我們課程後續會使用的 Cursor。\n",
    "\n",
    "### AI 如何幫助我們寫程式？\n",
    "* 自動補全 (Autocomplete)\n",
    "* 程式碼生成 (Code Generation)\n",
    "* 程式碼解釋 (Code Explanation)\n",
    "* 除錯 (Debugging)\n",
    "\n",
    "### 介紹：\n",
    "1.  **ChatGPT (OpenAI):** 非常擅長對話、回答問題、撰寫文章、生成程式碼片段、除錯建議等。\n",
    "2.  **Gemini (Google):** Google 開發的多模態 AI 模型，能理解和處理文字、圖片、聲音、影片和程式碼。\n",
    "3.  **Claude (Anthropic):** 特別強調 AI 的安全性、可靠性和可解釋性，擅長處理長文本。\n",
    "4.  **Cursor:** 一個「AI 優先」的程式編輯器，深度整合了 AI 輔助功能 (我們第三週會詳細學習)。\n"
   ]
  },
  {
   "cell_type": "markdown",
   "id": "03ffab93",
   "metadata": {},
   "source": [
    "\n",
    "### 活動時間：AI 初體驗！\n",
    "如果條件允許，請打開 ChatGPT (或其他你熟悉的 AI 聊天工具)。\n",
    "1.  試著問它一個 Python 相關的問題，例如：「Python 中的列表和元組有什麼不同？」\n",
    "2.  請它幫你解釋一段你不太懂的 Python 程式碼 (可以是你之前寫的，或是老師提供的)。\n",
    "3.  觀察 AI 的回答方式和內容。"
   ]
  },
  {
   "cell_type": "code",
   "execution_count": null,
   "id": "7eb2d0af",
   "metadata": {},
   "outputs": [],
   "source": []
  },
  {
   "cell_type": "markdown",
   "id": "0abe0dc1",
   "metadata": {},
   "source": [
    "## (三) 精準提問 AI：Prompt 工程初步\n",
    "\n",
    "我們給 AI 的指令或問題，就叫做 **Prompt**。\n",
    "\n",
    "### 為什麼 Prompt 很重要？\n",
    "* AI 不是萬能的，它需要我們清楚地告訴它「你想做什麼」。\n",
    "* 你給的 Prompt 越清楚、越具體，AI 給你的答案或程式碼就會越符合你的期望。\n",
    "* 口訣：垃圾進，垃圾出 (Garbage In, Garbage Out)！\n",
    "\n",
    "### 如何寫出好的 Prompt？\n",
    "* **提供足夠的上下文 (Context)：** 告訴 AI 你正在處理什麼問題，相關的程式碼片段是什麼。\n",
    "* **明確指出你的目標 (Goal)：** 你希望 AI 幫你完成什麼？是產生程式碼、解釋、還是除錯？\n",
    "* **給予範例 (Examples)：** 如果可以，給 AI 一些輸入和輸出的範例，它會更容易理解你的需求。\n",
    "* **逐步引導 (Iterative Prompting)：** 不要想一次就得到完美的答案。可以先給一個簡單的 Prompt，然後根據 AI 的回應，再逐步修正或補充你的 Prompt。"
   ]
  },
  {
   "cell_type": "markdown",
   "id": "1485b376",
   "metadata": {},
   "source": [
    "### 活動時間：Prompt 大挑戰！\n",
    "\n",
    "**情境：** 假設你想寫一個 Python 函式，它可以判斷一個數字是不是偶數。\n",
    "\n",
    "1.  **思考至少兩種不同的 Prompt**，來請 ChatGPT (或其他聊天 AI) 幫你寫這個函式。\n",
    "    * **Prompt 範例1 (比較模糊)：** 「寫個判斷偶數的 Python。」\n",
    "    * **Prompt 範例2 (比較清楚)：** 「請幫我寫一個 Python 函式，名稱叫做 `is_even`。這個函式接受一個整數作為參數，如果該整數是偶數，函式應該回傳 `True`，否則回傳 `False`。」\n",
    "2.  **預測與比較：** 這兩種 Prompt，AI 可能會給你什麼不同的回應？哪一種 Prompt 更可能讓你得到想要的結果？\n",
    "3.  **練習：** 在下面的儲存格中，寫下你針對「判斷一個數字是否為質數」的函式，所設計的**一個清晰的 Prompt**。然後，你可以實際把你的 Prompt 拿到 AI 工具中測試看看！"
   ]
  },
  {
   "cell_type": "code",
   "execution_count": null,
   "id": "1b19437b",
   "metadata": {},
   "outputs": [],
   "source": []
  },
  {
   "cell_type": "markdown",
   "id": "84b73ade",
   "metadata": {},
   "source": [
    "產生的程式碼："
   ]
  },
  {
   "cell_type": "code",
   "execution_count": null,
   "id": "1d7f3451",
   "metadata": {},
   "outputs": [],
   "source": []
  },
  {
   "cell_type": "markdown",
   "id": "f6ea2bf9",
   "metadata": {},
   "source": [
    "# 練習：為「判斷質數」的函式設計一個清晰的 Prompt\n",
    "\n",
    "\n",
    "你的 Prompt 寫在這裡：\n"
   ]
  },
  {
   "cell_type": "code",
   "execution_count": null,
   "id": "16064110",
   "metadata": {},
   "outputs": [],
   "source": []
  },
  {
   "cell_type": "markdown",
   "id": "d573755e",
   "metadata": {},
   "source": [
    "\n",
    "例如：請幫我寫一個 Python 函式，名稱叫做 is_prime。它接受一個正整數 num 作為參數。\n",
    "\n",
    "如果 num 是質數，函式應該回傳 True。\n",
    "\n",
    "如果 num 不是質數（例如 1，或任何合數），函式應該回傳 False。\n",
    "\n",
    "請考慮輸入值可能不是正整數的情況，並適當處理 (例如回傳 False 或引發錯誤)。"
   ]
  },
  {
   "cell_type": "code",
   "execution_count": null,
   "id": "3bf56ee6",
   "metadata": {},
   "outputs": [],
   "source": []
  },
  {
   "cell_type": "markdown",
   "id": "37820a39",
   "metadata": {},
   "source": [
    "## (四) 軟體工程概念：程式碼風格與可讀性\n",
    "\n",
    "### 為什麼可讀性很重要？\n",
    "* 容易理解、容易修改、容易除錯。\n",
    "* 方便團隊合作。\n",
    "* AI 也更能理解你的程式碼，提供更精準的協助。\n"
   ]
  },
  {
   "cell_type": "markdown",
   "id": "16bb46bd",
   "metadata": {},
   "source": [
    "### 如何提升程式碼可讀性？\n",
    "* **有意義的命名：** 變數、函式名稱要清楚表達用途。\n",
    "* **適當的註解：** 解釋複雜的邏輯。\n",
    "* **一致的排版：** 保持縮排、空格的一致性。\n",
    "* **函式不要太長：** 一個函式最好只做一件事情。\n",
    "\n"
   ]
  },
  {
   "cell_type": "markdown",
   "id": "5d925a42",
   "metadata": {},
   "source": [
    "**練習：** 檢視以下的程式碼，思考以下問題：\n",
    "1.  變數和函式名稱是否夠清楚？\n",
    "2.  是否需要加上註解來解釋程式碼的某些部分？\n",
    "3.  如果請 AI 幫你重構這段程式碼，讓它更具可讀性，你會怎麼下 Prompt？"
   ]
  },
  {
   "cell_type": "code",
   "execution_count": null,
   "id": "14a79f17",
   "metadata": {},
   "outputs": [],
   "source": [
    "import random\n",
    "\n",
    "map_size = 10\n",
    "sea_map = [\"O\"] * map_size\n",
    "treasure_pos = random.randint(0, map_size - 1)\n",
    "trap_positions = random.sample([i for i in range(map_size) if i != treasure_pos], 2)\n",
    "\n",
    "temp = []\n",
    "for i in range(map_size):\n",
    "  if i != treasure_pos:\n",
    "    temp.append(i)\n",
    "trap_positions = random.sample(temp, 2)\n",
    "\n",
    "\n",
    "sea_map[treasure_pos] = \"X\"\n",
    "for pos in trap_positions:\n",
    "    sea_map[pos] = \"T\"\n",
    "\n",
    "player_map = [\"?\"] * map_size\n",
    "\n",
    "attempts = 5\n",
    "print(\"海盜尋寶大冒險開始！\")\n",
    "\n",
    "while attempts > 0:\n",
    "    print(\"\\n地圖: \" + \" \".join(player_map))\n",
    "    choice = input(f\"選擇要搜尋的地點 (0-{map_size-1})，剩餘 {attempts} 次機會: \")\n",
    "\n",
    "    if not choice.isdigit():\n",
    "        print(\"請輸入數字！\")\n",
    "        continue\n",
    "\n",
    "    choice = int(choice)\n",
    "\n",
    "    if choice < 0 or choice >= map_size:\n",
    "        print(\"請輸入有效的範圍！\")\n",
    "        continue\n",
    "\n",
    "    if player_map[choice] != \"?\":\n",
    "        print(\"這個位置已經搜尋過了，請選擇其他位置！\")\n",
    "        continue\n",
    "\n",
    "    if sea_map[choice] == \"X\":\n",
    "        player_map[choice] = \"X\"\n",
    "        print(f\"恭喜！你在 {choice} 找到了寶藏！\")\n",
    "        break\n",
    "\n",
    "    elif sea_map[choice] == \"T\":\n",
    "        player_map[choice] = \"T\"\n",
    "        print(f\"你在 {choice} 踩到了陷阱，遊戲結束！\")\n",
    "        break\n",
    "\n",
    "    else:\n",
    "        player_map[choice] = \"O\"\n",
    "        print(f\"這裡什麼都沒有……繼續搜尋！\")\n",
    "        attempts -= 1\n",
    "\n",
    "if attempts == 0:\n",
    "    print(f\"你用完了所有機會！寶藏在 {treasure_pos}，再接再厲！\")"
   ]
  },
  {
   "cell_type": "markdown",
   "id": "83f1bc5e",
   "metadata": {},
   "source": [
    "--- \n",
    "第一週練習結束！下週我們將繼續運用與 AI 互動的概念，深入 Python 的進階資料結構和錯誤處理。"
   ]
  }
 ],
 "metadata": {
  "kernelspec": {
   "display_name": "Python 3",
   "language": "python",
   "name": "python3"
  },
  "language_info": {
   "codemirror_mode": {
    "name": "ipython",
    "version": 3
   },
   "file_extension": ".py",
   "mimetype": "text/x-python",
   "name": "python",
   "nbconvert_exporter": "python",
   "pygments_lexer": "ipython3",
   "version": "3.10.0"
  }
 },
 "nbformat": 4,
 "nbformat_minor": 5
}
