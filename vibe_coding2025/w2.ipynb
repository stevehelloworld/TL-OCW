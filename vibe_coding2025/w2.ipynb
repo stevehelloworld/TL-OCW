{
 "cells": [
  {
   "cell_type": "markdown",
   "id": "5875a7b1",
   "metadata": {},
   "source": [
    "# 第二週：從 Python 進階到軟體工程入門 - 練習\n",
    "\n",
    "歡迎來到第二週的課程練習！本週我們將深入探索 Python 的進階資料結構、專業的錯誤處理、軟體工程實務 (如 TDD、Docstrings、PEP 8)，並持續思考如何運用 AI 輔助我們的學習與開發。"
   ]
  },
  {
   "cell_type": "markdown",
   "id": "376aa5fb",
   "metadata": {},
   "source": [
    "## 2.1 Python 資料結構進階應用 (AI 輔助視角)"
   ]
  },
  {
   "cell_type": "markdown",
   "id": "664359c7",
   "metadata": {},
   "source": [
    "### 列表推導式 (List Comprehensions)\n",
    "一種簡潔、高效的方式來建立列表。"
   ]
  },
  {
   "cell_type": "code",
   "execution_count": null,
   "id": "07ca3ffa",
   "metadata": {},
   "outputs": [],
   "source": [
    "# 範例：快速產生一個包含平方數的列表\n",
    "squares = [x**2 for x in range(10)]\n",
    "print(f\"平方數列表：{squares}\")"
   ]
  },
  {
   "cell_type": "markdown",
   "id": "aed627d6",
   "metadata": {},
   "source": [
    "🤔 **思考與提問：** 如果你想用列表推導式從一個字串中選出所有母音，你會怎麼問 ChatGPT (或類似 AI) 來獲得提示或程式碼？\n",
    "\n",
    "**練習：** 在下方儲存格試著寫出這個列表推導式。"
   ]
  },
  {
   "cell_type": "code",
   "execution_count": null,
   "id": "69aa6717",
   "metadata": {},
   "outputs": [],
   "source": [
    "my_string = \"Hello World, this is a Test String.\"\n",
    "\n",
    "# 請在這裡填寫你的列表推導式，選出 my_string 中的所有母音 (a, e, i, o, u，不分大小寫)\n",
    "\n",
    "\n",
    "\n",
    "print(f\"字串中的母音: {vowels}\")"
   ]
  },
  {
   "cell_type": "markdown",
   "id": "b2bbcdcf",
   "metadata": {},
   "source": [
    "### 字典推導式 (Dictionary Comprehensions)\n",
    "類似地，用簡潔的方式建立字典。"
   ]
  },
  {
   "cell_type": "code",
   "execution_count": null,
   "id": "8e91e375",
   "metadata": {},
   "outputs": [],
   "source": [
    "# 範例：快速產生一個鍵為數字，值為其平方的字典\n",
    "square_dict = {x: x**2 for x in range(5)}\n",
    "print(f\"平方數字典：{square_dict}\")"
   ]
  },
  {
   "cell_type": "markdown",
   "id": "dec23caf",
   "metadata": {},
   "source": [
    "🤔 **思考與提問：** 如果你想將兩個列表 (一個包含鍵，一個包含值) 合併成一個字典，你會如何向 AI 提問以獲得使用字典推導式的方案？\n",
    "\n",
    "**練習：** 在下方儲存格試著寫出這個字典推導式。"
   ]
  },
  {
   "cell_type": "code",
   "execution_count": null,
   "id": "62639df1",
   "metadata": {},
   "outputs": [],
   "source": [
    "keys = ['a', 'b', 'c']\n",
    "values = [1, 2, 3]\n",
    "\n",
    "# 請在這裡填寫你的字典推導式，將 keys 和 values 合併成一個字典\n",
    "\n",
    "\n",
    "\n",
    "print(f\"合併後的字典: {combined_dict}\")"
   ]
  },
  {
   "cell_type": "markdown",
   "id": "c187e0a4",
   "metadata": {},
   "source": [
    "### 常用內建函式： `map`, `filter`, `sorted`"
   ]
  },
  {
   "cell_type": "code",
   "execution_count": null,
   "id": "ae3ca161",
   "metadata": {},
   "outputs": [],
   "source": [
    "# 範例程式碼\n",
    "numbers = [1, 2, 3, 4, 5]\n",
    "string_numbers = list(map(str, numbers))\n",
    "print(f\"數字轉字串列表：{string_numbers}\")\n",
    "\n",
    "even_numbers = list(filter(lambda x: x % 2 == 0, numbers))\n",
    "print(f\"列表中的偶數：{even_numbers}\")\n",
    "\n",
    "unsorted_list = [3, 1, 4, 1, 5, 9, 2, 6]\n",
    "sorted_list = sorted(unsorted_list)\n",
    "print(f\"排序後的列表：{sorted_list}\")"
   ]
  },
  {
   "cell_type": "markdown",
   "id": "4ac825b0",
   "metadata": {},
   "source": [
    "**練習：** 假設有一個元組列表 `students = [(\"小明\", 13, 85), (\"小華\", 12, 92), (\"小美\", 14, 78)]`，其中每個元組代表 (姓名, 年齡, 分數)。\n",
    "請使用 `sorted` 和 `lambda` 函式，按分數從高到低對學生列表進行排序。"
   ]
  },
  {
   "cell_type": "code",
   "execution_count": null,
   "id": "0664d032",
   "metadata": {},
   "outputs": [],
   "source": [
    "students = [(\"小明\", 13, 85), (\"小華\", 12, 92), (\"小美\", 14, 78)]\n",
    "# 請在這裡填寫程式碼，按分數從高到低排序\n",
    "\n",
    "\n",
    "\n",
    "print(f\"按分數排序後的學生列表: {sorted_students}\")"
   ]
  },
  {
   "cell_type": "markdown",
   "id": "0e66311d",
   "metadata": {},
   "source": [
    "## 2.2 錯誤處理與防禦性程式設計"
   ]
  },
  {
   "cell_type": "markdown",
   "id": "2798c940",
   "metadata": {},
   "source": [
    "### 使用 `try-except` 捕捉錯誤\n",
    "當我們預期某段程式碼可能出錯時，可以用 `try-except` 將其包覆，避免程式崩潰。"
   ]
  },
  {
   "cell_type": "code",
   "execution_count": null,
   "id": "d9149bf9",
   "metadata": {},
   "outputs": [],
   "source": [
    "# 範例：一個會計算除法的函式，但沒有錯誤處理\n",
    "def unsafe_divide(a, b):\n",
    "    return a / b\n",
    "\n",
    "# unsafe_divide(10, 0) # 這行會引發 ZeroDivisionError\n",
    "# unsafe_divide(10, \"2\") # 這行會引發 TypeError"
   ]
  },
  {
   "cell_type": "markdown",
   "id": "a1e24a00",
   "metadata": {},
   "source": [
    "**練習：**\n",
    "請修改下面的 `safe_divide` 函式，加入 `try-except` 區塊，使其能處理 `ZeroDivisionError` 和 `TypeError`，並在發生錯誤時回傳一個友善的訊息字串。"
   ]
  },
  {
   "cell_type": "code",
   "execution_count": null,
   "id": "8adb21b4",
   "metadata": {},
   "outputs": [],
   "source": [
    "def safe_divide(a, b):\n",
    "    result = a / b\n",
    "    return result\n",
    "\n",
    "\n",
    "# 測試你的函式\n",
    "print(safe_divide(10, 2))\n",
    "print(safe_divide(10, 0))\n",
    "print(safe_divide(10, \"2\"))"
   ]
  },
  {
   "cell_type": "markdown",
   "id": "4c7271c9",
   "metadata": {},
   "source": [
    "### 引發與自訂錯誤 (Raise & Custom Exceptions)\n",
    "有時候我們需要主動引發錯誤，或建立專屬的錯誤類型，讓程式碼意圖更清晰。"
   ]
  },
  {
   "cell_type": "code",
   "execution_count": null,
   "id": "fd9c5b5d",
   "metadata": {},
   "outputs": [],
   "source": [
    "# 建立自訂的錯誤類型\n",
    "class InvalidGradeError(ValueError):\n",
    "    \"\"\"當成績不在 0-100 範圍內時引發的錯誤\"\"\"\n",
    "    pass\n",
    "\n",
    "def set_grade(student_name, grade):\n",
    "    if not 0 <= grade <= 100:\n",
    "        # 主動引發自訂的錯誤\n",
    "        raise InvalidGradeError(f\"成績 '{grade}' 無效，必須介於 0 和 100 之間。\")\n",
    "    \n",
    "    print(f\"已成功設定 {student_name} 的成績為 {grade}\")\n",
    "\n",
    "# 測試\n",
    "try:\n",
    "    set_grade(\"小明\", 95)\n",
    "    set_grade(\"小華\", 101)\n",
    "except InvalidGradeError as e:\n",
    "    print(f\"捕捉到錯誤: {e}\")"
   ]
  },
  {
   "cell_type": "markdown",
   "id": "a3a772f6",
   "metadata": {},
   "source": [
    "## 2.3 AI 協作：Prompt 與除錯"
   ]
  },
  {
   "cell_type": "markdown",
   "id": "d39947e3",
   "metadata": {},
   "source": [
    "### 多步驟提示 (Multi-step Prompt)\n",
    "與其一次丟出複雜問題，不如分步驟引導 AI，逐步建構出最終答案。\n",
    "\n",
    "範例：請 AI 幫你寫一個線上課程報名系統\n",
    "\n",
    "第一步：「請幫我設計一個 Python 字典來表示一門線上課程，需要包含課程名稱、老師和一個空的學生名單。」\n",
    "第二步：「基於上面的字典，請寫一個函式，可以將一個學生名字加入到學生名單中。」\n",
    "第三步：「很好，現在請幫這個函式加上錯誤處理，如果學生已經在名單中了，就印出提示訊息。」"
   ]
  },
  {
   "cell_type": "markdown",
   "id": "56958392",
   "metadata": {},
   "source": [
    "活動：在您的筆記中，練習使用多步驟提示，引導 AI 產生一個密碼驗證函式（例如，長度至少8碼，包含數字和字母）。"
   ]
  },
  {
   "cell_type": "code",
   "execution_count": null,
   "id": "2b8ba6e2",
   "metadata": {},
   "outputs": [],
   "source": [
    "# 活動：在您的筆記中，練習使用多步驟提示，引導 AI 產生一個密碼驗證函式（例如，長度至少8碼，包含數字和字母）。\n",
    "\n",
    "\n"
   ]
  },
  {
   "cell_type": "markdown",
   "id": "31de0161",
   "metadata": {},
   "source": [
    "### 活動：「除錯大挑戰」！\n",
    "\n",
    "下面的函式 `calculate_average` 應該要計算一個數字列表的平均值，但它有一個邏輯上的 bug (程式可以跑，但結果不對)。"
   ]
  },
  {
   "cell_type": "code",
   "execution_count": null,
   "id": "4eb9d75a",
   "metadata": {},
   "outputs": [],
   "source": [
    "def calculate_average(numbers):\n",
    "    # 這個函式有一個 bug！\n",
    "    total = 0\n",
    "    for num in numbers:\n",
    "        total = num\n",
    "    return total / len(numbers)\n",
    "\n",
    "my_numbers = [10, 20, 30, 40, 50]\n",
    "avg = calculate_average(my_numbers)\n",
    "print(f\"列表 {my_numbers} 的平均值是: {avg}\")"
   ]
  },
  {
   "cell_type": "markdown",
   "id": "87170b9a",
   "metadata": {},
   "source": [
    "**練習與 AI 協作：**\n",
    "1. **思考你的 Prompt**：你會如何向 AI (ChatGPT, Cursor 等) 描述這個問題？你的 Prompt 應該包含：\n",
    "    - 相關程式碼。\n",
    "    - 你的預期行為 (預期輸出是什麼)。\n",
    "    - 程式的實際行為 (實際輸出是什麼)。\n",
    "2. **動手修復**：在下面的儲存格中，根據你與 AI 的互動或你自己的判斷，修復這個 bug。"
   ]
  },
  {
   "cell_type": "code",
   "execution_count": null,
   "id": "5bcb5e36",
   "metadata": {},
   "outputs": [],
   "source": [
    "def calculate_average_fixed(numbers):\n",
    "    # 請在這裡修復 bug\n",
    "    total = 0\n",
    "    for num in numbers:\n",
    "        total = num \n",
    "    \n",
    "    # 防禦性程式設計：處理空列表的情況\n",
    "\n",
    "        \n",
    "    return total / len(numbers)\n",
    "\n",
    "my_numbers = [10, 20, 30, 40, 50]\n",
    "avg = calculate_average_fixed(my_numbers)\n",
    "print(f\"修正後，列表 {my_numbers} 的平均值是: {avg}\")\n",
    "\n",
    "print(f\"處理空列表的情況: {calculate_average_fixed([])}\")"
   ]
  },
  {
   "cell_type": "markdown",
   "id": "c041478b",
   "metadata": {},
   "source": [
    "## 2.4 軟體工程核心實務"
   ]
  },
  {
   "cell_type": "markdown",
   "id": "edb16665",
   "metadata": {},
   "source": [
    "### TDD 與 `assert`\n",
    "TDD 的精神是「先寫測試，再寫功能」。`assert` 是我們實踐這個精神最簡單的工具，它用來斷言某個條件必須為真，否則就拋出錯誤。"
   ]
  },
  {
   "cell_type": "code",
   "execution_count": null,
   "id": "6a54499d",
   "metadata": {},
   "outputs": [],
   "source": [
    "def calculate_discount(price, discount_rate):\n",
    "    # 我們斷言折扣率必須在 0 和 1 之間，否則這個計算就沒有意義\n",
    "    assert 0 <= discount_rate <= 1, \"折扣率必須介於 0 和 1 之間\"\n",
    "    return price * (1 - discount_rate)\n",
    "\n",
    "# 這會正常運作\n",
    "print(f\"正常的折扣計算: {calculate_discount(100, 0.2)}\")\n",
    "\n",
    "# 下面這行會引發 AssertionError，因為 1.5 不在 0 和 1 之間\n",
    "try:\n",
    "    calculate_discount(100, 1.5)\n",
    "except AssertionError as e:\n",
    "    print(f\"斷言失敗: {e}\")"
   ]
  },
  {
   "cell_type": "markdown",
   "id": "02160a4c",
   "metadata": {},
   "source": [
    "### 撰寫清晰的文件字串 (Docstrings)\n",
    "Docstring 是說明函式、模組或類別用途的「內建說明書」。它不僅是給人看的，更是 **AI 理解你程式碼意圖的關鍵！**"
   ]
  },
  {
   "cell_type": "code",
   "execution_count": null,
   "id": "ac9acac1",
   "metadata": {},
   "outputs": [],
   "source": [
    "def calculate_total_price(items, tax_rate):\n",
    "    \"\"\"計算包含稅金的總價格。\n",
    "\n",
    "    Args:\n",
    "        items (list): 一個包含商品價格 (數字) 的列表。\n",
    "        tax_rate (float): 稅率，例如 0.05 代表 5%。\n",
    "\n",
    "    Returns:\n",
    "        float: 四捨五入到小數點後兩位的總金額。\n",
    "    \n",
    "    Raises:\n",
    "        ValueError: 如果 tax_rate 是負數。\n",
    "    \"\"\"\n",
    "    if tax_rate < 0:\n",
    "        raise ValueError(\"稅率不能是負數\")\n",
    "    \n",
    "    subtotal = sum(items)\n",
    "    total = subtotal * (1 + tax_rate)\n",
    "    return round(total, 2)\n",
    "\n",
    "# 你可以這樣查看說明書\n",
    "help(calculate_total_price)"
   ]
  },
  {
   "cell_type": "markdown",
   "id": "1af1c231",
   "metadata": {},
   "source": [
    "**練習與 AI 協作：**\n",
    "請複製上面的 `calculate_total_price` 函式 (包含完整的 Docstring)，並向 AI 下達指令：\n",
    "「**請根據這個函式的 Docstring，為它產生三個使用 `assert` 的測試案例，必須包含一個正常情況、一個邊界情況 (例如空列表)，以及一個會引發 `ValueError` 的情況。**」\n",
    "\n",
    "將 AI 產生的測試案例貼到下方的儲存格中執行看看。"
   ]
  },
  {
   "cell_type": "code",
   "execution_count": null,
   "id": "2d1ed5eb",
   "metadata": {},
   "outputs": [],
   "source": [
    "# 在這裡貼上 AI 產生的測試案例\n",
    "\n"
   ]
  },
  {
   "cell_type": "markdown",
   "id": "4d36292c",
   "metadata": {},
   "source": [
    "### 程式碼風格 (PEP 8)\n",
    "\n",
    "**練習與 AI 協作：**\n",
    "下面的程式碼可以正常運作，但風格非常糟糕。請將它複製、貼給 AI，並對它下達指令：「**請根據 PEP 8 風格指南，幫我重構這段程式碼，並用註解解釋你做了哪些修改。**」\n",
    "\n",
    "將 AI 回覆的「修改後程式碼」貼到下方的儲存格中執行看看。"
   ]
  },
  {
   "cell_type": "code",
   "execution_count": null,
   "id": "c35c0896",
   "metadata": {},
   "outputs": [],
   "source": [
    "# 風格糟糕的原始程式碼\n",
    "def BAD_FUNCTION_NAME(VAR1,VAR2):\n",
    "    ReSuLt=VAR1+VAR2;print('計算結果是:',ReSuLt)\n",
    "    return ReSuLt\n",
    "\n",
    "BAD_FUNCTION_NAME(5,10)"
   ]
  },
  {
   "cell_type": "code",
   "execution_count": null,
   "id": "4ba2fff7",
   "metadata": {},
   "outputs": [],
   "source": [
    "# 在這裡貼上 AI 根據 PEP 8 重構後的程式碼\n",
    "\n",
    "\n",
    "\n"
   ]
  },
  {
   "cell_type": "markdown",
   "id": "e23080f5",
   "metadata": {},
   "source": [
    "## 2.5 綜合專題：簡易購物車系統\n",
    "讓我們綜合運用所學，設計一個小型專案。完成後請demo給老師和其他同學看。\n",
    "\n",
    "需求：\n",
    "資料結構：設計一個結構來存放商品（名稱、價格）。\n",
    "新增商品：一個函式 add_to_cart()。\n",
    "計算總價：一個函式 calculate_total()。\n",
    "移除商品：一個函式 remove_from_cart()，需處理商品不存在的情況。\n",
    "AI 協作提示：卡關時可以問 AI：「我該用哪種資料結構來設計購物車比較好？」或「請幫我寫一個從列表中移除指定商品的函式。」"
   ]
  },
  {
   "cell_type": "code",
   "execution_count": null,
   "id": "37d48a83",
   "metadata": {},
   "outputs": [],
   "source": [
    "# 把AI給你的程式碼放在這邊執行\n",
    "\n",
    "\n",
    "\n",
    "\n"
   ]
  },
  {
   "cell_type": "markdown",
   "id": "738bd8cc",
   "metadata": {},
   "source": [
    "--- \n",
    "## 恭喜！\n",
    "第二週練習結束！你已經掌握了更多 Python 的進階技巧，並學會了如何更專業地與 AI 協作。下週我們將正式進入 Cursor 的世界！"
   ]
  }
 ],
 "metadata": {
  "kernelspec": {
   "display_name": "Python 3",
   "language": "python",
   "name": "python3"
  },
  "language_info": {
   "codemirror_mode": {
    "name": "ipython",
    "version": 3
   },
   "file_extension": ".py",
   "mimetype": "text/x-python",
   "name": "python",
   "nbconvert_exporter": "python",
   "pygments_lexer": "ipython3",
   "version": "3.10.8"
  }
 },
 "nbformat": 4,
 "nbformat_minor": 5
}
