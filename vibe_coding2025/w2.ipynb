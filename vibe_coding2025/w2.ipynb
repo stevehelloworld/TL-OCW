{
 "cells": [
  {
   "cell_type": "markdown",
   "metadata": {},
   "source": [
    "# 第二週：運用 ChatGPT 概念深化 Python 技能 - 練習\n",
    "\n",
    "歡迎來到第二週的課程練習！本週我們將繼續以 ChatGPT 的互動模式為參考，深入探索 Python 的進階資料結構、錯誤處理，並思考如何運用 AI 輔助除錯。"
   ]
  },
  {
   "cell_type": "markdown",
   "metadata": {},
   "source": [
    "## 本週學習目標\n",
    "\n",
    "複習一下我們這週要學習的內容：\n",
    "* 複習並深入應用 Python 的列表 (List)、字典 (Dictionary)、元組 (Tuple)、集合 (Set)。\n",
    "* 學習如何構思 Prompt，向類似 ChatGPT 的 AI 提問，以高效操作這些資料結構。\n",
    "* 理解 Python 的錯誤與異常處理 (`try-except-finally`)，並思考如何請 AI 協助。\n",
    "* 掌握運用 AI 輔助進行進階除錯的策略與提問技巧。"
   ]
  },
  {
   "cell_type": "markdown",
   "metadata": {},
   "source": [
    "## 2.1 Python 資料結構進階應用 (ChatGPT 輔助視角)\n",
    "\n",
    "Python 提供了多種強大的內建資料結構。這週，我們將思考如何透過向 ChatGPT 這樣的 AI 提問，來幫助我們更深入地理解和應用它們！\n"
   ]
  },
  {
   "cell_type": "markdown",
   "metadata": {},
   "source": [
    "### 列表推導式 (List Comprehensions)\n",
    "一種簡潔的方式來建立列表。"
   ]
  },
  {
   "cell_type": "code",
   "execution_count": null,
   "metadata": {},
   "outputs": [],
   "source": [
    "# 範例：快速產生一個包含平方數的列表\n",
    "squares = [x**2 for x in range(10)]\n",
    "print(f\"平方數列表：{squares}\")"
   ]
  },
  {
   "cell_type": "markdown",
   "metadata": {},
   "source": [
    "🤔 **思考與提問：** 如果你想用列表推導式從一個字串中選出所有母音，你會怎麼問 ChatGPT (或類似 AI) 來獲得提示或程式碼？\n",
    "\n",
    "**練習：** 在下方儲存格試著寫出這個列表推導式。"
   ]
  },
  {
   "cell_type": "code",
   "execution_count": null,
   "metadata": {},
   "outputs": [],
   "source": [
    "my_string = \"Hello World, this is a Test String.\"\n",
    "# 請在這裡填寫你的列表推導式，選出 my_string 中的所有母音 (a, e, i, o, u，不分大小寫)\n"
   ]
  },
  {
   "cell_type": "markdown",
   "metadata": {},
   "source": [
    "### 字典推導式 (Dictionary Comprehensions)\n",
    "類似地，用簡潔的方式建立字典。"
   ]
  },
  {
   "cell_type": "code",
   "execution_count": null,
   "metadata": {},
   "outputs": [],
   "source": [
    "# 範例：快速產生一個鍵為數字，值為其平方的字典\n",
    "square_dict = {x: x**2 for x in range(5)}\n",
    "print(f\"平方數字典：{square_dict}\")"
   ]
  },
  {
   "cell_type": "markdown",
   "metadata": {},
   "source": [
    "🤔 **思考與提問：** 如果你想將兩個列表 (一個包含鍵，一個包含值) 合併成一個字典，你會如何向 AI 提問以獲得使用字典推導式的方案？\n",
    "\n",
    "**練習：** 在下方儲存格試著寫出這個字典推導式。"
   ]
  },
  {
   "cell_type": "code",
   "execution_count": null,
   "metadata": {},
   "outputs": [],
   "source": [
    "keys = ['a', 'b', 'c']\n",
    "values = [1, 2, 3]\n",
    "# 請在這裡填寫你的字典推導式，將 keys 和 values 合併成一個字典\n"
   ]
  },
  {
   "cell_type": "markdown",
   "metadata": {},
   "source": [
    "### 常用內建函式操作資料結構\n",
    "\n",
    "* `map(function, iterable)`：將函式應用到序列中的每個元素。\n",
    "* `filter(function, iterable)`：根據函式過濾序列中的元素。\n",
    "* `sorted(iterable, key=None, reverse=False)`：對序列進行排序。"
   ]
  },
  {
   "cell_type": "code",
   "execution_count": null,
   "metadata": {},
   "outputs": [],
   "source": [
    "# 範例程式碼\n",
    "numbers = [1, 2, 3, 4, 5]\n",
    "string_numbers = list(map(str, numbers))\n",
    "print(f\"數字轉字串列表：{string_numbers}\")\n",
    "\n",
    "even_numbers = list(filter(lambda x: x % 2 == 0, numbers))\n",
    "print(f\"列表中的偶數：{even_numbers}\")\n",
    "\n",
    "unsorted_list = [3, 1, 4, 1, 5, 9, 2, 6]\n",
    "sorted_list = sorted(unsorted_list)\n",
    "print(f\"排序後的列表：{sorted_list}\")\n",
    "desc_sorted_list = sorted(unsorted_list, reverse=True)\n",
    "print(f\"降冪排序後的列表：{desc_sorted_list}\")"
   ]
  },
  {
   "cell_type": "markdown",
   "metadata": {},
   "source": [
    "🤔 **思考與提問：** 你會如何問 AI，請它示範如何使用 `filter` 過濾出一個數字列表中所有大於10的偶數？\n",
    "\n",
    "**練習：** 假設有一個元組列表 `students = [(\"小明\", 13, 85), (\"小華\", 12, 92), (\"小美\", 14, 78)]`，其中每個元組代表 (姓名, 年齡, 分數)。\n",
    "請使用 `sorted` 和 `lambda` 函式，按分數從高到低對學生列表進行排序。"
   ]
  },
  {
   "cell_type": "code",
   "execution_count": null,
   "metadata": {},
   "outputs": [],
   "source": [
    "students = [(\"小明\", 13, 85), (\"小華\", 12, 92), (\"小美\", 14, 78)]\n",
    "# 請在這裡填寫程式碼，按分數從高到低排序\n",
    "\n"
   ]
  },
  {
   "cell_type": "markdown",
   "metadata": {},
   "source": [
    "### 活動：學生名單與成績處理 (AI 輔助思考)\n",
    "\n",
    "假設你有一份學生成績資料：\n",
    "```python\n",
    "student_data = [\n",
    "    {\"name\": \"小明\", \"score\": 85, \"subject\": \"數學\"},\n",
    "    {\"name\": \"小華\", \"score\": 92, \"subject\": \"數學\"},\n",
    "    {\"name\": \"小美\", \"score\": 78, \"subject\": \"國文\"},\n",
    "    {\"name\": \"小強\", \"score\": 55, \"subject\": \"數學\"},\n",
    "    {\"name\": \"小莉\", \"score\": 95, \"subject\": \"國文\"}\n",
    "]\n",
    "```\n",
    "針對以下任務，思考你會如何向 ChatGPT (或類似 AI) 提問，以獲得解題思路或程式碼片段：\n",
    "\n",
    "1.  計算所有學生的平均分數。\n",
    "2.  找出「數學」科目中最高分的學生姓名及其分數。\n",
    "3.  篩選出所有不及格 (低於60分) 的學生名單 (包含姓名和科目)。\n",
    "4.  將所有學生的成績按照分數從高到低排序，並印出姓名、科目和分數。\n",
    "\n",
    "**在下面的儲存格中，嘗試針對其中一個任務，寫下你的 Prompt，並試著自己完成程式碼。**"
   ]
  },
  {
   "cell_type": "code",
   "execution_count": null,
   "metadata": {},
   "outputs": [],
   "source": [
    "student_data = [\n",
    "    {\"name\": \"小明\", \"score\": 85, \"subject\": \"數學\"},\n",
    "    {\"name\": \"小華\", \"score\": 92, \"subject\": \"數學\"},\n",
    "    {\"name\": \"小美\", \"score\": 78, \"subject\": \"國文\"},\n",
    "    {\"name\": \"小強\", \"score\": 55, \"subject\": \"數學\"},\n",
    "    {\"name\": \"小莉\", \"score\": 95, \"subject\": \"國文\"}\n",
    "]\n",
    "\n",
    "# 選擇一個任務，在這裡嘗試完成它！\n",
    "# 例如，找出「數學」科目中最高分的學生姓名及其分數。\n",
    "# 你的 Prompt 可能會是：「我有一個 Python 的字典列表 student_data，每個字典包含 'name', 'score', 'subject'。\n",
    "# 請幫我寫一段程式碼，找出 subject 是 '數學' 的學生中，score 最高的學生的名字和分數。」\n",
    "\n",
    "\n",
    "\n"
   ]
  },
  {
   "cell_type": "markdown",
   "metadata": {},
   "source": [
    "## 2.2 堅固的程式碼：錯誤與異常處理 (AI 輔助視角)\n",
    "\n",
    "學會處理「錯誤」和「異常」能讓你的程式更強壯。思考一下，AI 如何在這方面提供協助？\n",
    "\n",
    "([圖片：程式錯誤與AI輔助])"
   ]
  },
  {
   "cell_type": "markdown",
   "metadata": {},
   "source": [
    "### 常見的 Python 錯誤類型\n",
    "複習一下常見的錯誤：\n",
    "* `SyntaxError`, `NameError`, `TypeError`, `ValueError`\n",
    "* `IndexError`, `KeyError`, `FileNotFoundError`, `ZeroDivisionError`, `AttributeError`\n",
    "\n",
    "🤔 **思考與提問：** 當你遇到一個 `FileNotFoundError`，你會怎麼問 AI，請它提供處理這種錯誤的 `try-except` 範例？"
   ]
  },
  {
   "cell_type": "code",
   "execution_count": null,
   "metadata": {},
   "outputs": [],
   "source": [
    "# 範例：使用 try-except 捕捉 FileNotFoundError\n",
    "try:\n",
    "    filename = \"一個不存在的檔案.txt\"\n",
    "    with open(filename, \"r\", encoding=\"utf-8\") as f: # 加上 encoding 比較保險\n",
    "        content = f.read()\n",
    "    print(\"檔案內容：\")\n",
    "    print(content)\n",
    "except FileNotFoundError:\n",
    "    print(f\"錯誤：找不到檔案 '{filename}'！請確認檔案路徑和名稱是否正確。\")\n",
    "except Exception as e: # 捕捉其他所有未預期的錯誤\n",
    "    print(f\"發生了未預期的錯誤：{e}\")\n",
    "else:\n",
    "    # 如果 try 區塊沒有發生任何錯誤，就會執行這裡\n",
    "    print(\"檔案讀取成功！\")\n",
    "finally:\n",
    "    # 無論有沒有發生錯誤，finally 區塊的程式碼一定會執行\n",
    "    print(\"檔案操作區塊執行結束。\")"
   ]
  },
  {
   "cell_type": "markdown",
   "metadata": {},
   "source": [
    "### 引發自訂義異常 (raise)\n",
    "有時候，我們希望在特定條件下主動引發一個錯誤。"
   ]
  },
  {
   "cell_type": "code",
   "execution_count": null,
   "metadata": {},
   "outputs": [],
   "source": [
    "# 範例：引發自訂義異常\n",
    "def process_positive_number(number):\n",
    "    if not isinstance(number, (int, float)):\n",
    "        raise TypeError(\"輸入必須是數字！\")\n",
    "    if number <= 0:\n",
    "        raise ValueError(\"數字必須是正數！\")\n",
    "    print(f\"成功處理正數：{number}\")\n",
    "\n",
    "inputs_to_test = [10, -5, \"abc\", 0, 20.5]\n",
    "for item in inputs_to_test:\n",
    "    print(f\"\\n嘗試處理輸入：{item}\")\n",
    "    try:\n",
    "        process_positive_number(item)\n",
    "    except (TypeError, ValueError) as e:\n",
    "        print(f\"處理失敗：{e}\")"
   ]
  },
  {
   "cell_type": "markdown",
   "metadata": {},
   "source": [
    "🤔 **思考與提問：** 在什麼情境下，主動 `raise` 一個錯誤會比單純 `print` 錯誤訊息更好？你會如何向 AI 詢問這兩者的差異與適用時機？"
   ]
  },
  {
   "cell_type": "code",
   "execution_count": null,
   "id": "5877cc86",
   "metadata": {},
   "outputs": [],
   "source": []
  },
  {
   "cell_type": "markdown",
   "metadata": {},
   "source": [
    "### 活動：為程式碼加上防護罩！(AI 輔助思考)\n",
    "\n",
    "思考以下程式碼片段，它嘗試從使用者那裡獲取兩個數字並計算它們的商："
   ]
  },
  {
   "cell_type": "code",
   "execution_count": null,
   "id": "00e5aa59",
   "metadata": {},
   "outputs": [],
   "source": [
    "# version 1: 沒有錯誤處理\n",
    "num1_str = input(\"請輸入第一個數字：\")\n",
    "num2_str = input(\"請輸入第二個數字：\")\n",
    "num1 = float(num1_str)\n",
    "num2 = float(num2_str)\n",
    "quotient = num1 / num2\n",
    "print(f\"{num1} 除以 {num2} 的結果是 {quotient}\")"
   ]
  },
  {
   "cell_type": "markdown",
   "id": "b327b6f2",
   "metadata": {},
   "source": [
    "1.  這段程式碼可能會出現哪些錯誤？（至少想出兩種）\n",
    "2.  你會如何向 ChatGPT (或類似 AI) 提問，請它協助你為這段程式碼加入完整的錯誤處理機制？（思考你的 Prompt 應該包含哪些資訊，例如：希望處理哪些特定錯誤、希望錯誤時印出什麼訊息等）\n",
    "3.  在下面的儲存格中，嘗試根據你的思考和 AI 可能的建議，修改上面的程式碼，使其更強健。"
   ]
  },
  {
   "cell_type": "code",
   "execution_count": null,
   "metadata": {},
   "outputs": [],
   "source": [
    "# TODO: 加入錯誤處理\n",
    "num1_str = input(\"請輸入第一個數字：\")\n",
    "num2_str = input(\"請輸入第二個數字：\")\n",
    "num1 = float(num1_str)\n",
    "num2 = float(num2_str)\n",
    "quotient = num1 / num2\n",
    "print(f\"{num1} 除以 {num2} 的結果是 {quotient}\")"
   ]
  },
  {
   "cell_type": "markdown",
   "metadata": {},
   "source": [
    "## 2.3 AI 除錯夥伴 (ChatGPT 視角)\n",
    "\n",
    "當程式出現 bug 時，AI 可以是你的好幫手。"
   ]
  },
  {
   "cell_type": "markdown",
   "metadata": {},
   "source": [
    "### 如何有效地向 AI (如 ChatGPT) 求助除錯？\n",
    "複習一下提問技巧：\n",
    "* 複製完整的錯誤訊息。\n",
    "* 提供相關的程式碼片段。\n",
    "* 描述你預期的行為。\n",
    "* 描述實際發生的行為。\n",
    "* 說明你已經嘗試過的解決方法。\n",
    "\n",
    "🤔 **思考與提問：** 假設你的程式出現了一個邏輯錯誤 (程式可以跑，但結果不對)，你會如何向 AI 描述這個問題，並請它協助你找出原因？（例如，提供輸入、你的預期輸出、以及程式的實際輸出）"
   ]
  },
  {
   "cell_type": "code",
   "execution_count": null,
   "id": "e9ba2e02",
   "metadata": {},
   "outputs": [],
   "source": []
  },
  {
   "cell_type": "markdown",
   "metadata": {},
   "source": [
    "### 活動：「除錯大挑戰」！(AI 輔助思考)\n",
    "\n",
    "老師可能會提供一個有 bug 的程式片段。你的任務是，思考你會如何運用與 ChatGPT (或類似 AI) 互動的技巧來：\n",
    "\n",
    "1.  理解程式碼的功能。\n",
    "2.  分析錯誤訊息或不符合預期的行為。\n",
    "3.  向 AI 清晰地描述問題，並提供相關資訊以獲得幫助。\n",
    "4.  根據 AI 的建議，嘗試找出並修復 bug。\n",
    "\n",
    "**和同學分享你的「提問策略」和 AI 可能給你的「啟發」。**\n",
    "\n",
    "**範例:**"
   ]
  },
  {
   "cell_type": "code",
   "execution_count": null,
   "id": "b7f137c4",
   "metadata": {},
   "outputs": [],
   "source": [
    "def calculate_average(numbers):\n",
    "    # 這個函式應該計算一個數字列表的平均值\n",
    "    # 但它有一個 bug！\n",
    "    total = 0\n",
    "    for num in numbers:\n",
    "        total = num\n",
    "    return total / len(numbers)\n",
    "\n",
    "my_numbers = [10, 20, 30, 40, 50]\n",
    "avg = calculate_average(my_numbers)\n",
    "print(f\"列表 {my_numbers} 的平均值是: {avg}\") # 預期輸出應該是 30"
   ]
  },
  {
   "cell_type": "markdown",
   "id": "87170b9a",
   "metadata": {},
   "source": [
    "**思考：** 你會如何向 AI 描述這個 bug，並請它幫你找出問題？並用AI修正以下程式碼。"
   ]
  },
  {
   "cell_type": "code",
   "execution_count": null,
   "metadata": {},
   "outputs": [],
   "source": [
    "def calculate_average(numbers):\n",
    "    # 這個函式應該計算一個數字列表的平均值\n",
    "    # 但它有一個 bug！\n",
    "    total = 0\n",
    "    for num in numbers:\n",
    "        total = num\n",
    "    return total / len(numbers)\n",
    "\n",
    "my_numbers = [10, 20, 30, 40, 50]\n",
    "avg = calculate_average(my_numbers)\n",
    "print(f\"列表 {my_numbers} 的平均值是: {avg}\") # 預期輸出應該是 30"
   ]
  },
  {
   "cell_type": "markdown",
   "metadata": {},
   "source": [
    "## 2.4 軟體工程概念：防禦性程式設計\n",
    "\n",
    "防禦性程式設計是一種思維方式，目標是讓程式碼在面對未預期的輸入或情況時，依然能夠保持穩定。\n",
    "\n",
    "**主要原則：**\n",
    "* 檢查所有來自外部的輸入。\n",
    "* 處理所有可能的錯誤情況。\n",
    "* 使用斷言 (Assertions)。\n",
    "* 保持程式碼簡單清晰。\n",
    "\n",
    "**思考：** 在上面的「計算平均值」函式中，如果我們加入了一個檢查 `if not numbers:`，這屬於防禦性程式設計的哪個原則？"
   ]
  },
  {
   "cell_type": "code",
   "execution_count": null,
   "id": "9b77bc04",
   "metadata": {},
   "outputs": [],
   "source": []
  },
  {
   "cell_type": "markdown",
   "metadata": {},
   "source": [
    "--- \n",
    "第二週練習結束！下週我們將正式進入 Cursor 的世界！"
   ]
  }
 ],
 "metadata": {
  "kernelspec": {
   "display_name": "Python 3",
   "language": "python",
   "name": "python3"
  },
  "language_info": {
   "codemirror_mode": {
    "name": "ipython",
    "version": 3
   },
   "file_extension": ".py",
   "mimetype": "text/x-python",
   "name": "python",
   "nbconvert_exporter": "python",
   "pygments_lexer": "ipython3",
   "version": "3.10.0"
  }
 },
 "nbformat": 4,
 "nbformat_minor": 5
}
